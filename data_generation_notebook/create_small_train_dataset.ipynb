{
 "cells": [
  {
   "cell_type": "code",
   "execution_count": 23,
   "metadata": {},
   "outputs": [],
   "source": [
    "import csv\n",
    "import json\n",
    "import os\n",
    "from operator import itemgetter\n",
    "\n",
    "import matplotlib.pyplot as plt\n",
    "import numpy as np\n",
    "import pandas as pd\n",
    "\n",
    "from benchmark.dataset.lmdb_dataset import LMDBDataset\n"
   ]
  },
  {
   "cell_type": "code",
   "execution_count": 24,
   "metadata": {},
   "outputs": [
    {
     "name": "stdout",
     "output_type": "stream",
     "text": [
      "train num_FOVs: 74 ['reg002_A.hdf', 'reg002_B.hdf', 'reg004_A.hdf', 'reg004_B.hdf']\n",
      "valid num_FOVs: 16 ['reg003_A.hdf', 'reg003_B.hdf', 'reg007_A.hdf', 'reg007_B.hdf']\n",
      "test num_FOVs: 19 ['reg001_A.hdf', 'reg001_B.hdf', 'reg005_A.hdf', 'reg005_B.hdf']\n"
     ]
    }
   ],
   "source": [
    "BASE_PATH = '/home/jluesch/Documents/data'\n",
    "DS_PATH = os.path.join(BASE_PATH, 'schuerch_dataset_lmdb')\n",
    "\n",
    "dataset_split = os.path.join(DS_PATH, 'splits', 'schuerch_dataset_split.csv')\n",
    "label_dict = os.path.join(DS_PATH, 'label_dict.json')\n",
    "dataset_path = os.path.join(DS_PATH, 'lmdb')\n",
    "\n",
    "# load split .csv\n",
    "split_df = pd.read_csv(dataset_split)\n",
    "label_dict = json.load(open(label_dict))\n",
    "\n",
    "# load dataset\n",
    "datasets = {}\n",
    "splits = [\"train\", \"valid\", \"test\"]\n",
    "for split in splits:\n",
    "    include_fovs = split_df[split_df[\"train_test_val_split\"] == split][\"sample_name\"].tolist()\n",
    "    print(split, 'num_FOVs:', len(include_fovs), include_fovs[:4])\n",
    "    dataset = LMDBDataset(path=dataset_path, include_sample_names=include_fovs) #include_tile_names=include_fovs)\n",
    "    datasets[split] = dataset\n"
   ]
  },
  {
   "cell_type": "code",
   "execution_count": 25,
   "metadata": {},
   "outputs": [
    {
     "data": {
      "text/plain": [
       "46"
      ]
     },
     "execution_count": 25,
     "metadata": {},
     "output_type": "execute_result"
    }
   ],
   "source": [
    "one_pct_tiles = int(0.01 * len(datasets['train']))\n",
    "one_pct_tiles"
   ]
  },
  {
   "cell_type": "code",
   "execution_count": 26,
   "metadata": {},
   "outputs": [
    {
     "data": {
      "text/plain": [
       "{1: 'B cells',\n",
       " 2: 'Macrophages/Monocytes',\n",
       " 3: 'Adipocytes',\n",
       " 4: 'Dendritic cells',\n",
       " 5: 'T cells',\n",
       " 6: 'Granulocytes',\n",
       " 7: 'NK cells',\n",
       " 8: 'Nerves',\n",
       " 9: 'Plasma cells',\n",
       " 10: 'Smooth muscle',\n",
       " 11: 'Stroma',\n",
       " 12: 'Tumor cells',\n",
       " 13: 'Vasculature/Lymphatics',\n",
       " 14: 'Other cells'}"
      ]
     },
     "execution_count": 26,
     "metadata": {},
     "output_type": "execute_result"
    }
   ],
   "source": [
    "label_dict = {int(k): v for k, v in label_dict.items()}\n",
    "del label_dict[0]\n",
    "label_dict"
   ]
  },
  {
   "cell_type": "code",
   "execution_count": 27,
   "metadata": {},
   "outputs": [
    {
     "name": "stdout",
     "output_type": "stream",
     "text": [
      "num_classes: 14\n"
     ]
    }
   ],
   "source": [
    "num_classes = max(label_dict.keys())\n",
    "print('num_classes:', num_classes)"
   ]
  },
  {
   "cell_type": "code",
   "execution_count": 28,
   "metadata": {},
   "outputs": [
    {
     "name": "stdout",
     "output_type": "stream",
     "text": [
      "train dataset length: 4662\n",
      "{0: 41906, 2: 3058, 5: 339, 6: 305, 10: 3589, 11: 979}\n",
      "valid dataset length: 1008\n",
      "test dataset length: 1197\n",
      "Selected 2251 tiles from 46 TMAs\n"
     ]
    }
   ],
   "source": [
    "def get_unique_counts(semantic_mask):\n",
    "    unique, counts = np.unique(semantic_mask, return_counts=True)\n",
    "    unique_dict = {int(k): int(v) for k, v in zip(unique, counts)}\n",
    "    return unique_dict\n",
    "\n",
    "def update_c_type_freq(unique_dict, c_type_freq):\n",
    "    for un, ct in unique_dict.items():\n",
    "        un = int(un)\n",
    "        if un > 0:\n",
    "            c_type_name = label_dict[un]\n",
    "            c_type_freq[c_type_name] += int(ct)\n",
    "\n",
    "def remove_pad(x):\n",
    "    res_x = []\n",
    "    nonzero_mask = x != 0\n",
    "    print(nonzero_mask[0, :, :].shape)\n",
    "    for i in range(x.shape[0]):\n",
    "        if x[i].sum() == 0:\n",
    "            continue\n",
    "\n",
    "        res_x.append(np.trim_zeros(x[i]))\n",
    "\n",
    "    res_x = np.stack(res_x)\n",
    "    return res_x, nonzero_mask[0, :, :]\n",
    "\n",
    "def normalize(x):\n",
    "    return x / x.max()\n",
    "    #return (x - x.min()) / (x.max() - x.min())\n",
    "\n",
    "def plot_el(el, rare_c_types):\n",
    "    if len(rare_c_types) > 1:\n",
    "        title = ', '.join(itemgetter(*rare_c_types)(label_dict)) + ' in ' + el['tile_name']\n",
    "        print('found', title)\n",
    "        img, nonzero_mask = remove_pad(el[\"image\"])\n",
    "        sem_mask = el[\"semantic_mask\"][nonzero_mask == 1]\n",
    "\n",
    "        rare_c = sem_mask == rare_c_types[0]\n",
    "\n",
    "        f, a = plt.subplots(1, 3)\n",
    "        f.set_size_inches(10,5)\n",
    "        f.suptitle(title)\n",
    "        rare_c = 2 * rare_c\n",
    "        rare_c = rare_c | (sem_mask == rare_c_types[1])\n",
    "        a[0].imshow(normalize(img).transpose(1,2,0))\n",
    "        a[1].imshow(normalize(img).transpose(1,2,0))\n",
    "        a[1].imshow(rare_c.reshape(img.shape[1], img.shape[2], 1), alpha=0.4)\n",
    "        a[2].imshow(sem_mask.reshape(img.shape[1], img.shape[2], 1))\n",
    "        for ax in a:\n",
    "            ax.axis('off')\n",
    "\n",
    "        plt.tight_layout()\n",
    "        plt.savefig(os.path.join(out_dir, f'tile_{el[\"tile_name\"]}.png'), bbox_inches='tight')\n",
    "        plt.show()\n",
    "\n",
    "do_vis = False\n",
    "c_type_freq_all = []\n",
    "tile_list = []\n",
    "sel_c_types = True\n",
    "selected_tmas = []\n",
    "prev_rare_count = 0\n",
    "# from least to most rare\n",
    "rare_c_type_idx = [7,4]\n",
    "cand_unique_dict = {}\n",
    "out_dir = '/home/jluesch/Documents/output_dir/c_types'\n",
    "\n",
    "for split in splits:\n",
    "    print(split, 'dataset length:', len(datasets[split]))\n",
    "    dataset = datasets[split]\n",
    "    c_type_freq = dict.fromkeys(label_dict.values(), 0)\n",
    "\n",
    "    for i, el in enumerate(dataset):\n",
    "        if i == 0: #init\n",
    "            prev_tma = el[\"sample_name\"]\n",
    "            candidate_tile_name = el[\"tile_name\"]\n",
    "\n",
    "        unique_dict = get_unique_counts(el[\"semantic_mask\"])\n",
    "        if split == 'train' and i % 10000 == 0:\n",
    "            print(unique_dict)\n",
    "\n",
    "        if not sel_c_types or split != 'train':\n",
    "            tile_list.append((el[\"tile_name\"], split))\n",
    "            update_c_type_freq(unique_dict, c_type_freq)\n",
    "        else:\n",
    "            # select the tile in the tma with the most abundant rare cell types\n",
    "            curr_tma = el[\"sample_name\"]\n",
    "            if curr_tma != prev_tma: # new tma, update frequency list\n",
    "                prev_rare_count = 0\n",
    "                tile_list.append((candidate_tile_name, split))\n",
    "                selected_tmas.append(prev_tma)\n",
    "                update_c_type_freq(cand_unique_dict, c_type_freq)\n",
    "                prev_tma = curr_tma\n",
    "                if len(tile_list) >= one_pct_tiles:\n",
    "                    break\n",
    "\n",
    "            rare_c_types = list(set(rare_c_type_idx) & set(unique_dict.keys()))\n",
    "            if len(rare_c_types) > 0:\n",
    "                if do_vis:\n",
    "                    plot_el(el, rare_c_types)\n",
    "\n",
    "                curr_rare_count = np.sum(itemgetter(*rare_c_types)(unique_dict))\n",
    "                if curr_rare_count > prev_rare_count or len(rare_c_types) > 1:\n",
    "                    prev_rare_count = curr_rare_count\n",
    "                    candidate_tile_name = el[\"tile_name\"]\n",
    "                    cand_unique_dict = unique_dict\n",
    "\n",
    "    c_type_freq_all.append(c_type_freq)\n",
    "\n",
    "print(f'Selected {len(tile_list)} tiles from {len(list(set(selected_tmas)))} TMAs')\n"
   ]
  },
  {
   "cell_type": "code",
   "execution_count": 29,
   "metadata": {},
   "outputs": [],
   "source": [
    "out_dir = '/home/jluesch/Documents/output_dir/c_types'\n",
    "label = 'train_balanced_tile_split_one_pct'\n",
    "out_file = os.path.join(out_dir, f'{label}.csv')\n",
    "\n",
    "with open(out_file, 'w') as csv_file:\n",
    "    writer = csv.writer(csv_file)\n",
    "    writer.writerow(['sample_name', 'train_test_val_split'])\n",
    "    for tile, split in tile_list:\n",
    "       writer.writerow([tile, split])\n"
   ]
  },
  {
   "cell_type": "code",
   "execution_count": 31,
   "metadata": {},
   "outputs": [
    {
     "name": "stdout",
     "output_type": "stream",
     "text": [
      "Cell Numbers:\n",
      "train: 853733\n",
      "val:   11838635\n",
      "test:  13528654\n",
      "ALL:   26221022\n"
     ]
    }
   ],
   "source": [
    "print('Cell Numbers:')\n",
    "print(f'train: {sum(c_type_freq_all[0].values())}')\n",
    "print(f'val:   {sum(c_type_freq_all[1].values())}')\n",
    "print(f'test:  {sum(c_type_freq_all[2].values())}')\n",
    "print(f'ALL:   {sum(c_type_freq_all[0].values()) + sum(c_type_freq_all[1].values()) + sum(c_type_freq_all[2].values())}')"
   ]
  },
  {
   "cell_type": "code",
   "execution_count": 32,
   "metadata": {},
   "outputs": [
    {
     "data": {
      "text/plain": [
       "{'Smooth muscle': 156667,\n",
       " 'Tumor cells': 150561,\n",
       " 'Macrophages/Monocytes': 130718,\n",
       " 'B cells': 118915,\n",
       " 'T cells': 110337,\n",
       " 'Granulocytes': 60716,\n",
       " 'Stroma': 41099,\n",
       " 'Vasculature/Lymphatics': 38238,\n",
       " 'Dendritic cells': 22630,\n",
       " 'Other cells': 14541,\n",
       " 'Plasma cells': 3732,\n",
       " 'Adipocytes': 2770,\n",
       " 'NK cells': 1535,\n",
       " 'Nerves': 1274}"
      ]
     },
     "execution_count": 32,
     "metadata": {},
     "output_type": "execute_result"
    }
   ],
   "source": [
    "c_type_freq = dict(sorted(c_type_freq_all[0].items(), key=lambda item: item[1], reverse=True))\n",
    "c_type_freq"
   ]
  },
  {
   "cell_type": "code",
   "execution_count": 33,
   "metadata": {},
   "outputs": [
    {
     "name": "stdout",
     "output_type": "stream",
     "text": [
      "Total nb of cells 853733\n"
     ]
    }
   ],
   "source": [
    "print('Total nb of cells', sum(c_type_freq.values()))"
   ]
  },
  {
   "cell_type": "code",
   "execution_count": 34,
   "metadata": {},
   "outputs": [],
   "source": [
    "out_file = os.path.join(out_dir, f'c_train_{label}_types.csv')\n",
    "\n",
    "with open(out_file, 'w') as csv_file:\n",
    "    writer = csv.writer(csv_file)\n",
    "    for key, value in c_type_freq.items():\n",
    "       writer.writerow([key, value])"
   ]
  },
  {
   "cell_type": "code",
   "execution_count": 35,
   "metadata": {},
   "outputs": [
    {
     "name": "stdout",
     "output_type": "stream",
     "text": [
      "['Vasculature/Lymphatics', 'Tumor cells', 'T cells', 'Stroma', 'Smooth muscle', 'Plasma cells', 'Other cells', 'Nerves', 'NK cells', 'Macrophages/Monocytes', 'Granulocytes', 'Dendritic cells', 'B cells', 'Adipocytes']\n"
     ]
    },
    {
     "data": {
      "text/plain": [
       "[]"
      ]
     },
     "execution_count": 35,
     "metadata": {},
     "output_type": "execute_result"
    },
    {
     "data": {
      "image/png": "[encoded data removed]",
      "text/plain": [
       "<Figure size 1000x500 with 1 Axes>"
      ]
     },
     "metadata": {},
     "output_type": "display_data"
    }
   ],
   "source": [
    "f, a = plt.subplots(1, 1, figsize=(10, 5))\n",
    "\n",
    "x_vals = sorted(c_type_freq.keys(), reverse=True)\n",
    "\n",
    "a.bar(c_type_freq.keys(), c_type_freq.values())\n",
    "a.set_xticks(list(c_type_freq.keys()))\n",
    "print(x_vals)\n",
    "a.set_xticklabels(a.get_xticklabels(), rotation=90)\n",
    "a.set_title(f'Cell Types Train, {label} split')\n",
    "\n",
    "out_fig = os.path.join(out_dir, f'c_types_{label}.png')\n",
    "plt.savefig(out_fig, bbox_inches='tight')\n",
    "plt.plot()\n"
   ]
  },
  {
   "cell_type": "code",
   "execution_count": null,
   "metadata": {},
   "outputs": [],
   "source": []
  }
 ],
 "metadata": {
  "kernelspec": {
   "display_name": "patho_0 kernel",
   "language": "python",
   "name": "patho_0"
  },
  "language_info": {
   "codemirror_mode": {
    "name": "ipython",
    "version": 3
   },
   "file_extension": ".py",
   "mimetype": "text/x-python",
   "name": "python",
   "nbconvert_exporter": "python",
   "pygments_lexer": "ipython3",
   "version": "3.13.1"
  }
 },
 "nbformat": 4,
 "nbformat_minor": 2
}
