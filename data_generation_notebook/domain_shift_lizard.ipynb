{
 "cells": [
  {
   "cell_type": "code",
   "execution_count": null,
   "metadata": {},
   "outputs": [],
   "source": [
    "import pandas as pd\n",
    "from pathlib import Path\n",
    "import os\n",
    "\n",
    "from sklearn.model_selection import train_test_split"
   ]
  },
  {
   "cell_type": "code",
   "execution_count": 2,
   "metadata": {},
   "outputs": [],
   "source": [
    "path_csv = Path(\"/raid55/data/lizard/lizard_default_train_test_val_split.csv\")\n",
    "df = pd.read_csv(path_csv)"
   ]
  },
  {
   "cell_type": "code",
   "execution_count": null,
   "metadata": {},
   "outputs": [
    {
     "data": {
      "text/plain": [
       "array(['train', 'valid', 'test'], dtype=object)"
      ]
     },
     "execution_count": 12,
     "metadata": {},
     "output_type": "execute_result"
    }
   ],
   "source": [
    "sample_names = df[\"sample_name\"].tolist()\n",
    "# print(sample_names)\n",
    "df[\"train_test_val_split\"].unique()"
   ]
  },
  {
   "cell_type": "code",
   "execution_count": null,
   "metadata": {},
   "outputs": [
    {
     "name": "stdout",
     "output_type": "stream",
     "text": [
      "Saved split for hold-out domain 'dpath' to /raid55/data/lizard/domain_shift_splits/lizard_domaingen_dpath_test_split.csv\n",
      "Saved split for hold-out domain 'glas' to /raid55/data/lizard/domain_shift_splits/lizard_domaingen_glas_test_split.csv\n",
      "Saved split for hold-out domain 'consep' to /raid55/data/lizard/domain_shift_splits/lizard_domaingen_consep_test_split.csv\n",
      "Saved split for hold-out domain 'pannuke' to /raid55/data/lizard/domain_shift_splits/lizard_domaingen_pannuke_test_split.csv\n",
      "Saved split for hold-out domain 'crag' to /raid55/data/lizard/domain_shift_splits/lizard_domaingen_crag_test_split.csv\n"
     ]
    }
   ],
   "source": [
    "path_domain_shift_splits = \"/raid55/data/lizard/domain_shift_splits/\"\n",
    "\n",
    "# List of domains based on the sample name prefix\n",
    "domains = [\"dpath\", \"glas\", \"consep\", \"pannuke\", \"crag\"]\n",
    "\n",
    "# Create a new column to store the domain extracted from the sample name\n",
    "df[\"domain\"] = df[\"sample_name\"].str.split(\"_\").str[0]\n",
    "\n",
    "for holdout_domain in domains:\n",
    "    # Create a copy for this split experiment\n",
    "    df_new = df.copy()\n",
    "\n",
    "    # Identify test samples: those from the holdout domain\n",
    "    is_test = df_new[\"domain\"] == holdout_domain\n",
    "\n",
    "    # The remaining samples will be used for training/validation\n",
    "    train_val = df_new[~is_test].copy()\n",
    "\n",
    "    # Split the non-test set into training and validation sets (80% train, 20% valid)\n",
    "    train_subset, val_subset = train_test_split(train_val, test_size=0.2, random_state=42)\n",
    "\n",
    "    # Assign new split labels: train, valid, test\n",
    "    df_new.loc[train_subset.index, \"new_split\"] = \"train\"\n",
    "    df_new.loc[val_subset.index, \"new_split\"] = \"valid\"\n",
    "    df_new.loc[is_test, \"new_split\"] = \"test\"\n",
    "\n",
    "    # Create a filename reflecting the held-out domain\n",
    "    output_file = os.path.join(path_domain_shift_splits, f\"lizard_domaingen_{holdout_domain}_test_split.csv\")\n",
    "\n",
    "    # Save only the sample name and the new split label\n",
    "    df_new[[\"sample_name\", \"new_split\"]].to_csv(output_file, index=False)\n",
    "    print(f\"Saved split for hold-out domain '{holdout_domain}' to {output_file}\")"
   ]
  }
 ],
 "metadata": {
  "kernelspec": {
   "display_name": "bio_bench",
   "language": "python",
   "name": "python3"
  },
  "language_info": {
   "codemirror_mode": {
    "name": "ipython",
    "version": 3
   },
   "file_extension": ".py",
   "mimetype": "text/x-python",
   "name": "python",
   "nbconvert_exporter": "python",
   "pygments_lexer": "ipython3",
   "version": "3.11.10"
  }
 },
 "nbformat": 4,
 "nbformat_minor": 2
}
